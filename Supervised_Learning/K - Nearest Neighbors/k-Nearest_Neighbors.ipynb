{
 "cells": [
  {
   "cell_type": "markdown",
   "metadata": {},
   "source": [
    "# K-Nearest Neighbors\n",
    "\n",
    "### What is K-Nearest Neighbors?\n",
    "- The main idea behind K-NN is to find the K nearest data points, or neighbors, to a given data point and then predict the label or value of the given data point based on the labels or values of its K nearest neighbors.\n",
    "\n",
    "- nearest neighbor is a non-parametric method, and that implies that it makes no assumptions about the underlying data. This is profitable over parametric techniques, which truly do make such assumptions. The models don't learn parameters from the training data index to concoct a discriminative function in order to  classify the test or unseen data collection. Rather model remembers the training data.\n",
    "\n",
    "![alt text](https://miro.medium.com/max/405/1*0Pqqx6wGDfFm_7GLebg2Hw.png)\n",
    "\n",
    "### Pros and Cons\n",
    "Pros\n",
    "- There is no training period for it, it stores the training dataset and learns from it only at the time of making real time predictions. This makess this algorithm pretty fast.\n",
    "\n",
    "- Since KNN doesn't require any training before making predictions, new data can be added seamlessly which will not impact the accuracy of the algorithm.\n",
    "\n",
    "- KNN is very easy to implement.\n",
    "\n",
    "Cons\n",
    "- Does not work well with large datasets.\n",
    "\n",
    "- The KNN algorithm doesn't work well with high dimensional data because with large number of dimensions, it becomes difficult for the algorithm to calculate the distance in each dimension.\n",
    "\n",
    "- KNN is sensitive to noise in the dataset. We need to manually impute missing values and remove outliers."
   ]
  },
  {
   "cell_type": "markdown",
   "metadata": {},
   "source": [
    "With this being said, lets impliment this algorithm on the Fish dataset."
   ]
  },
  {
   "cell_type": "code",
   "execution_count": 1,
   "metadata": {},
   "outputs": [
    {
     "data": {
      "image/png": "[encoded data removed]",
      "text/plain": [
       "<Figure size 720x576 with 1 Axes>"
      ]
     },
     "metadata": {},
     "output_type": "display_data"
    }
   ],
   "source": [
    "import matplotlib.pyplot as plt\n",
    "import numpy as np\n",
    "import pandas as pd\n",
    "import seaborn as sns\n",
    "\n",
    "# Set theme for plotting\n",
    "sns.set_theme()\n",
    "\n",
    "# Import the data\n",
    "Fish_Market = pd.read_csv(\"/Users/chan/Desktop/Data Science 4/Github Repository/Datasets/Fish.csv\")\n",
    "\n",
    "# Plot the data\n",
    "Fish = [\"Pike\", \"Parkki\", \"Roach\", \"Bream\", \"Smelt\", \"Whitefish\", \"Perch\"]\n",
    "colors = [\"yellow\", \"dodgerblue\", \"mediumspringgreen\", \"orange\", \"purple\", \"red\", \"pink\"]\n",
    "\n",
    "fig, ax = plt.subplots(figsize = (10, 8))\n",
    "for species, color in zip(Fish, colors):\n",
    "    temp_df = Fish_Market[Fish_Market.Species == species]\n",
    "    ax.scatter(temp_df.Height,\n",
    "               temp_df.Width,\n",
    "               c = color,\n",
    "               label = species, \n",
    "               )\n",
    "    \n",
    "ax.set_xlabel(\"Height\", fontsize = 15)\n",
    "ax.set_ylabel(\"Width\", fontsize = 15)\n",
    "ax.legend()\n",
    "plt.show()"
   ]
  },
  {
   "cell_type": "code",
   "execution_count": 2,
   "metadata": {},
   "outputs": [],
   "source": [
    "from sklearn.model_selection import train_test_split\n",
    "\n",
    "X = Fish_Market[[\"Length2\",\n",
    "          \"Length3\"]].to_numpy()\n",
    "\n",
    "y = Fish_Market[\"Species\"].to_numpy()\n",
    "\n",
    "X_train, X_test, y_train, y_test = train_test_split(X,\n",
    "                                                    y, \n",
    "                                                    test_size=0.33, \n",
    "                                                    random_state=42)"
   ]
  },
  {
   "cell_type": "markdown",
   "metadata": {},
   "source": [
    "Now we need to define the distance function as well as our k nearest neighbors function."
   ]
  },
  {
   "cell_type": "code",
   "execution_count": 3,
   "metadata": {},
   "outputs": [
    {
     "name": "stdout",
     "output_type": "stream",
     "text": [
      "The distance between point 10 and 67 is 16.585837331892535\n"
     ]
    }
   ],
   "source": [
    "def distance(p, q):\n",
    "    return np.sqrt((p - q) @ (p - q))\n",
    "\n",
    "print(f\"The distance between point 10 and 67 is {distance(X[10], X[67])}\")"
   ]
  },
  {
   "cell_type": "code",
   "execution_count": 4,
   "metadata": {},
   "outputs": [],
   "source": [
    "def k_nearest_neighbors(point, \n",
    "                        training_features, \n",
    "                        training_labels, \n",
    "                        k):\n",
    "    # Create an empty list to store neighbors and distances\n",
    "    neighbors = []\n",
    "    \n",
    "    for p, label in zip(training_features, training_labels):\n",
    "        d = distance(point, p)\n",
    "        temp_data = [p, label, d]\n",
    "        neighbors.append(temp_data)\n",
    "        \n",
    "    neighbors.sort(key = lambda x : x[-1])\n",
    "    \n",
    "    return neighbors[:k]\n"
   ]
  },
  {
   "cell_type": "code",
   "execution_count": 5,
   "metadata": {},
   "outputs": [
    {
     "data": {
      "text/plain": [
       "[[array([31.7, 35. ]), 'Roach', 1.486606874731849],\n",
       " [array([31., 34.]), 'Whitefish', 1.7999999999999972],\n",
       " [array([31. , 36.2]), 'Bream', 2.8425340807103794],\n",
       " [array([30., 35.]), 'Bream', 2.9732137494636985],\n",
       " [array([30. , 35.1]), 'Bream', 3.0083217912982625],\n",
       " [array([34.5, 36.5]), 'Perch', 3.0232432915661964],\n",
       " [array([29.7, 34.5]), 'Bream', 3.140063693621514]]"
      ]
     },
     "execution_count": 5,
     "metadata": {},
     "output_type": "execute_result"
    }
   ],
   "source": [
    "# Test the k_nearest_neighbors function\n",
    "k_nearest_neighbors(X_test[-1], X_train, y_train, 7)"
   ]
  },
  {
   "cell_type": "code",
   "execution_count": 6,
   "metadata": {},
   "outputs": [
    {
     "data": {
      "text/plain": [
       "'Perch'"
      ]
     },
     "execution_count": 6,
     "metadata": {},
     "output_type": "execute_result"
    }
   ],
   "source": [
    "# Test our function \n",
    "y_test[-1]"
   ]
  },
  {
   "cell_type": "markdown",
   "metadata": {},
   "source": [
    "Now we need to write a function that would predict our next target label."
   ]
  },
  {
   "cell_type": "code",
   "execution_count": 7,
   "metadata": {},
   "outputs": [],
   "source": [
    "def KNN_Predict(point, \n",
    "                training_features, \n",
    "                training_labels, \n",
    "                k, \n",
    "                regression = False):\n",
    "    \n",
    "    neighbors = k_nearest_neighbors(point, \n",
    "                                    training_features, \n",
    "                                    training_labels, \n",
    "                                    k)\n",
    "    \n",
    "    if regression == False:\n",
    "        labels = [x[1] for x in neighbors]\n",
    "        return max(labels, key = labels.count)\n",
    "    \n",
    "    else:\n",
    "        return sum(x[1] for x in neighbors)/k\n",
    "\n"
   ]
  },
  {
   "cell_type": "code",
   "execution_count": 8,
   "metadata": {},
   "outputs": [
    {
     "data": {
      "text/plain": [
       "'Bream'"
      ]
     },
     "execution_count": 8,
     "metadata": {},
     "output_type": "execute_result"
    }
   ],
   "source": [
    "KNN_Predict(X_test[-1], X_train, y_train, 7)"
   ]
  },
  {
   "cell_type": "markdown",
   "metadata": {},
   "source": [
    "Computing our classifcation error."
   ]
  },
  {
   "cell_type": "code",
   "execution_count": 9,
   "metadata": {},
   "outputs": [],
   "source": [
    "def classification_error(test_features, \n",
    "                         test_labels,\n",
    "                         training_features, \n",
    "                         training_labels,\n",
    "                         k):\n",
    "    error = 0\n",
    "    for point, label in zip(test_features, test_labels):\n",
    "        error += label != KNN_Predict(point, \n",
    "                                      training_features, \n",
    "                                      training_labels, \n",
    "                                      k)\n",
    "    return error/len(test_features)"
   ]
  },
  {
   "cell_type": "markdown",
   "metadata": {},
   "source": [
    "Our K value is very important in KNN as it can be not the easiest thing to find. A small value of k means that noise will have a higher influence on the result and a large value make it computationally expensive. So in turn you have to play around with it."
   ]
  },
  {
   "cell_type": "code",
   "execution_count": 22,
   "metadata": {},
   "outputs": [
    {
     "data": {
      "text/plain": [
       "0.2641509433962264"
      ]
     },
     "execution_count": 22,
     "metadata": {},
     "output_type": "execute_result"
    }
   ],
   "source": [
    "# Test our function\n",
    "classification_error(X_test, y_test, X_train, y_train, 2)"
   ]
  },
  {
   "cell_type": "code",
   "execution_count": 23,
   "metadata": {},
   "outputs": [],
   "source": [
    "possible_k = [k for k in range(3, 26, 2)]\n",
    "errors = [classification_error(X_test,\n",
    "                               y_test,\n",
    "                               X_train,\n",
    "                               y_train, k) for k in possible_k]"
   ]
  },
  {
   "cell_type": "code",
   "execution_count": 24,
   "metadata": {},
   "outputs": [
    {
     "data": {
      "image/png": "[encoded data removed]",
      "text/plain": [
       "<Figure size 720x576 with 1 Axes>"
      ]
     },
     "metadata": {},
     "output_type": "display_data"
    }
   ],
   "source": [
    "plt.figure(figsize = (10, 8))\n",
    "plt.plot(possible_k, errors, color = 'red', marker = \"o\")\n",
    "plt.xlabel('k', fontsize = 14)\n",
    "plt.ylabel('Classification Error', fontsize = 14)\n",
    "plt.xticks(possible_k)\n",
    "plt.show()"
   ]
  },
  {
   "cell_type": "markdown",
   "metadata": {},
   "source": [
    "As our best possible K value equals 2, this gives us the most optimal classification error as it is the smallest one from all of the other values that i've tried."
   ]
  }
 ],
 "metadata": {
  "interpreter": {
   "hash": "d6aeb679c4523c6ce3f3ae9945774fb4893c3edf76f3195fb3eb9fc1cb52b430"
  },
  "kernelspec": {
   "display_name": "Python 3.9.7 ('.venv': venv)",
   "language": "python",
   "name": "python3"
  },
  "language_info": {
   "codemirror_mode": {
    "name": "ipython",
    "version": 3
   },
   "file_extension": ".py",
   "mimetype": "text/x-python",
   "name": "python",
   "nbconvert_exporter": "python",
   "pygments_lexer": "ipython3",
   "version": "3.9.7"
  },
  "orig_nbformat": 4
 },
 "nbformat": 4,
 "nbformat_minor": 2
}
