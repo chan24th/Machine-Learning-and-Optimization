{
 "cells": [
  {
   "cell_type": "markdown",
   "metadata": {},
   "source": [
    "# Linear Regression\n",
    "\n",
    "### What is Linear Regression?\n",
    "- Linear regression is one of the very basic forms of machine learning where we train a model to predict the behaviour of your data based on some variables. In the case of linear regression as you can see the name suggests linear that means the two variables which are on the x-axis and y-axis should be linearly correlated.\n",
    "\n",
    "-  More precisely, linear regression is used to determine the character and strength of the association between a dependent variable and a series of other independent variables. It helps create models to make predictions, such as predicting a company's stock price.\n",
    "\n",
    "- Linear regression is used to predict a quantitative response Y from the predictor variable X.\n",
    "\n",
    "Mathematically, we can write a linear regression equation as: ${y} = {a} + {bx}$\n",
    "\n",
    "\n",
    "Where a and b given by the formulas:\n",
    "\n",
    "![alt text](https://lh4.googleusercontent.com/4qD_43D6y3nyLvkW0IBy6HL9EZdVTtu1jubbP6u-K6WrvBP8CNV-TnIwGZvcgYCnvhS_PBauLsqswDkf-nhxzDCwdKKqh0BVrMBc1-sEMCLycVjZc765DjZh9E2rYlI65Lfg1l-nLBexuk_kpw)\n",
    "\n",
    "\n",
    "Here, x and y are two variables on the regression line.\n",
    "\n",
    "b = Slope of the line.\n",
    "\n",
    "a = y-intercept of the line.\n",
    "\n",
    "x = Independent variable from dataset\n",
    "\n",
    "y = Dependent variable from dataset\n",
    "\n",
    "A linear models main aim is to be able to find the best possible fit for a linear line with minimal errors or in another word outliers.\n",
    "\n",
    "![alt text](https://editor.analyticsvidhya.com/uploads/96503linear-nonlinear-relationships.png)\n",
    "\n",
    "\n",
    "Since we knwo the basics of linear regression and what the purpose is behind it, lets start implementing some of the things that we've learned on a dataset. \n",
    "\n",
    "\n"
   ]
  },
  {
   "cell_type": "code",
   "execution_count": 1,
   "metadata": {},
   "outputs": [],
   "source": [
    "import matplotlib.pyplot as plt\n",
    "import numpy as np\n",
    "import pandas as pd\n",
    "import seaborn as sns\n",
    "from sklearn.linear_model import LinearRegression\n",
    "from sklearn import linear_model\n",
    "from sklearn.metrics import mean_squared_error, r2_score\n",
    "from sklearn.model_selection import train_test_split\n",
    "sns.set_theme()\n"
   ]
  },
  {
   "cell_type": "code",
   "execution_count": 2,
   "metadata": {},
   "outputs": [
    {
     "data": {
      "text/html": [
       "<div>\n",
       "<style scoped>\n",
       "    .dataframe tbody tr th:only-of-type {\n",
       "        vertical-align: middle;\n",
       "    }\n",
       "\n",
       "    .dataframe tbody tr th {\n",
       "        vertical-align: top;\n",
       "    }\n",
       "\n",
       "    .dataframe thead th {\n",
       "        text-align: right;\n",
       "    }\n",
       "</style>\n",
       "<table border=\"1\" class=\"dataframe\">\n",
       "  <thead>\n",
       "    <tr style=\"text-align: right;\">\n",
       "      <th></th>\n",
       "      <th>TV</th>\n",
       "      <th>Radio</th>\n",
       "      <th>Newspaper</th>\n",
       "      <th>Sales</th>\n",
       "    </tr>\n",
       "  </thead>\n",
       "  <tbody>\n",
       "    <tr>\n",
       "      <th>0</th>\n",
       "      <td>230.1</td>\n",
       "      <td>37.8</td>\n",
       "      <td>69.2</td>\n",
       "      <td>22.1</td>\n",
       "    </tr>\n",
       "    <tr>\n",
       "      <th>1</th>\n",
       "      <td>44.5</td>\n",
       "      <td>39.3</td>\n",
       "      <td>45.1</td>\n",
       "      <td>10.4</td>\n",
       "    </tr>\n",
       "    <tr>\n",
       "      <th>2</th>\n",
       "      <td>17.2</td>\n",
       "      <td>45.9</td>\n",
       "      <td>69.3</td>\n",
       "      <td>12.0</td>\n",
       "    </tr>\n",
       "    <tr>\n",
       "      <th>3</th>\n",
       "      <td>151.5</td>\n",
       "      <td>41.3</td>\n",
       "      <td>58.5</td>\n",
       "      <td>16.5</td>\n",
       "    </tr>\n",
       "    <tr>\n",
       "      <th>4</th>\n",
       "      <td>180.8</td>\n",
       "      <td>10.8</td>\n",
       "      <td>58.4</td>\n",
       "      <td>17.9</td>\n",
       "    </tr>\n",
       "    <tr>\n",
       "      <th>...</th>\n",
       "      <td>...</td>\n",
       "      <td>...</td>\n",
       "      <td>...</td>\n",
       "      <td>...</td>\n",
       "    </tr>\n",
       "    <tr>\n",
       "      <th>195</th>\n",
       "      <td>38.2</td>\n",
       "      <td>3.7</td>\n",
       "      <td>13.8</td>\n",
       "      <td>7.6</td>\n",
       "    </tr>\n",
       "    <tr>\n",
       "      <th>196</th>\n",
       "      <td>94.2</td>\n",
       "      <td>4.9</td>\n",
       "      <td>8.1</td>\n",
       "      <td>14.0</td>\n",
       "    </tr>\n",
       "    <tr>\n",
       "      <th>197</th>\n",
       "      <td>177.0</td>\n",
       "      <td>9.3</td>\n",
       "      <td>6.4</td>\n",
       "      <td>14.8</td>\n",
       "    </tr>\n",
       "    <tr>\n",
       "      <th>198</th>\n",
       "      <td>283.6</td>\n",
       "      <td>42.0</td>\n",
       "      <td>66.2</td>\n",
       "      <td>25.5</td>\n",
       "    </tr>\n",
       "    <tr>\n",
       "      <th>199</th>\n",
       "      <td>232.1</td>\n",
       "      <td>8.6</td>\n",
       "      <td>8.7</td>\n",
       "      <td>18.4</td>\n",
       "    </tr>\n",
       "  </tbody>\n",
       "</table>\n",
       "<p>200 rows × 4 columns</p>\n",
       "</div>"
      ],
      "text/plain": [
       "        TV  Radio  Newspaper  Sales\n",
       "0    230.1   37.8       69.2   22.1\n",
       "1     44.5   39.3       45.1   10.4\n",
       "2     17.2   45.9       69.3   12.0\n",
       "3    151.5   41.3       58.5   16.5\n",
       "4    180.8   10.8       58.4   17.9\n",
       "..     ...    ...        ...    ...\n",
       "195   38.2    3.7       13.8    7.6\n",
       "196   94.2    4.9        8.1   14.0\n",
       "197  177.0    9.3        6.4   14.8\n",
       "198  283.6   42.0       66.2   25.5\n",
       "199  232.1    8.6        8.7   18.4\n",
       "\n",
       "[200 rows x 4 columns]"
      ]
     },
     "execution_count": 2,
     "metadata": {},
     "output_type": "execute_result"
    }
   ],
   "source": [
    "# For linear regression lets load in our company.csv dataset and take a look at it.\n",
    "df = pd.read_csv(\"/Users/chan/Desktop/Data Science 4/Github Repository/Datasets/company.csv\")\n",
    "df"
   ]
  },
  {
   "cell_type": "markdown",
   "metadata": {},
   "source": [
    "Now that we have taking a look into the data, lets now plot the data to see if we have a decent correlation between the points."
   ]
  },
  {
   "cell_type": "code",
   "execution_count": 3,
   "metadata": {},
   "outputs": [
    {
     "data": {
      "image/png": "[encoded data removed]",
      "text/plain": [
       "<Figure size 720x576 with 1 Axes>"
      ]
     },
     "metadata": {},
     "output_type": "display_data"
    }
   ],
   "source": [
    "df = df.iloc[:70][[\"TV\", \"Sales\"]]\n",
    "plt.figure(figsize = (10,8))\n",
    "plt.scatter(df.TV,\n",
    "            df.Sales,\n",
    "            color = \"mediumspringgreen\",\n",
    "            label = \"TV Sales\")\n",
    "plt.xlabel(\"TV\", fontsize = 15)\n",
    "plt.ylabel(\"Sales\", fontsize = 15)\n",
    "plt.legend(fontsize = 15)\n",
    "plt.title(\"My Regression Data\", fontsize = 18)\n",
    "plt.show()"
   ]
  },
  {
   "cell_type": "markdown",
   "metadata": {},
   "source": [
    "From sklearn.linear we import LinearRegression to make things a bit easier"
   ]
  },
  {
   "cell_type": "code",
   "execution_count": 4,
   "metadata": {},
   "outputs": [
    {
     "data": {
      "text/plain": [
       "array([[23.2],\n",
       "       [ 9.7],\n",
       "       [11.3],\n",
       "       [19. ],\n",
       "       [13.2],\n",
       "       [22.6],\n",
       "       [18.9],\n",
       "       [17.9],\n",
       "       [20.2],\n",
       "       [15.6],\n",
       "       [12. ],\n",
       "       [17.9],\n",
       "       [ 8.5],\n",
       "       [10.5]])"
      ]
     },
     "execution_count": 4,
     "metadata": {},
     "output_type": "execute_result"
    }
   ],
   "source": [
    "model = linear_model.LinearRegression()\n",
    "x = df.iloc[:, 0:3]\n",
    "y = df[[\"Sales\"]]\n",
    "xtrain, xtest, ytrain, ytest = train_test_split(x, y, test_size = .2)\n",
    "model.fit(xtrain, ytrain)\n",
    "ypred_train = model.predict(xtrain)\n",
    "ypred_test = model.predict(xtest)\n",
    "ypred_train\n",
    "ypred_test\n",
    "\n"
   ]
  },
  {
   "cell_type": "code",
   "execution_count": 5,
   "metadata": {},
   "outputs": [
    {
     "data": {
      "text/plain": [
       "Sales   -1.598721e-14\n",
       "dtype: float64"
      ]
     },
     "execution_count": 5,
     "metadata": {},
     "output_type": "execute_result"
    }
   ],
   "source": [
    "# Shows how accurate our model is\n",
    "ypred_train - ytrain\n",
    "np.sum(ypred_train - ytrain)\n",
    "np.sum(ypred_test - ytest)\n",
    "# this shows that our model is over fitting the data."
   ]
  },
  {
   "cell_type": "markdown",
   "metadata": {},
   "source": [
    "Explain MSE\n"
   ]
  },
  {
   "cell_type": "code",
   "execution_count": 12,
   "metadata": {},
   "outputs": [
    {
     "name": "stdout",
     "output_type": "stream",
     "text": [
      "Coefficients: \n",
      " [[2.187845e-17 1.000000e+00]]\n",
      "Mean squared error: 0.00\n",
      "Mean squared error: 0.00\n",
      "Coefficient of determination: 1.00\n",
      "Coefficient of determination: 1.00\n"
     ]
    },
    {
     "name": "stderr",
     "output_type": "stream",
     "text": [
      "/Users/chan/Desktop/Data Science 4/Github Repository/.venv/lib/python3.9/site-packages/sklearn/base.py:450: UserWarning: X does not have valid feature names, but LinearRegression was fitted with feature names\n",
      "  warnings.warn(\n"
     ]
    },
    {
     "ename": "ValueError",
     "evalue": "X has 1 features, but LinearRegression is expecting 2 features as input.",
     "output_type": "error",
     "traceback": [
      "\u001b[0;31m---------------------------------------------------------------------------\u001b[0m",
      "\u001b[0;31mValueError\u001b[0m                                Traceback (most recent call last)",
      "\u001b[1;32m/Users/chan/Desktop/Data Science 4/Github Repository/Supervised_Learning/Linear Regression/Linear_Regression.ipynb Cell 10'\u001b[0m in \u001b[0;36m<cell line: 11>\u001b[0;34m()\u001b[0m\n\u001b[1;32m      <a href='vscode-notebook-cell:/Users/chan/Desktop/Data%20Science%204/Github%20Repository/Supervised_Learning/Linear%20Regression/Linear_Regression.ipynb#ch0000009?line=7'>8</a>\u001b[0m \u001b[39mprint\u001b[39m(\u001b[39m\"\u001b[39m\u001b[39mCoefficient of determination: \u001b[39m\u001b[39m%.2f\u001b[39;00m\u001b[39m\"\u001b[39m \u001b[39m%\u001b[39m r2_score(ytest, ypred_test))\n\u001b[1;32m      <a href='vscode-notebook-cell:/Users/chan/Desktop/Data%20Science%204/Github%20Repository/Supervised_Learning/Linear%20Regression/Linear_Regression.ipynb#ch0000009?line=8'>9</a>\u001b[0m \u001b[39mprint\u001b[39m(\u001b[39m\"\u001b[39m\u001b[39mCoefficient of determination: \u001b[39m\u001b[39m%.2f\u001b[39;00m\u001b[39m\"\u001b[39m \u001b[39m%\u001b[39m r2_score(ytrain, ypred_train))\n\u001b[0;32m---> <a href='vscode-notebook-cell:/Users/chan/Desktop/Data%20Science%204/Github%20Repository/Supervised_Learning/Linear%20Regression/Linear_Regression.ipynb#ch0000009?line=10'>11</a>\u001b[0m reg_line \u001b[39m=\u001b[39m model\u001b[39m.\u001b[39;49mpredict(np\u001b[39m.\u001b[39;49mreshape(np\u001b[39m.\u001b[39;49mlinspace(\u001b[39m0\u001b[39;49m,\u001b[39m300\u001b[39;49m, num \u001b[39m=\u001b[39;49m \u001b[39m400\u001b[39;49m),(\u001b[39m400\u001b[39;49m, \u001b[39m1\u001b[39;49m)))\n\u001b[1;32m     <a href='vscode-notebook-cell:/Users/chan/Desktop/Data%20Science%204/Github%20Repository/Supervised_Learning/Linear%20Regression/Linear_Regression.ipynb#ch0000009?line=11'>12</a>\u001b[0m \u001b[39m#b = np.linspace(0,300, num = 400).shape\u001b[39;00m\n\u001b[1;32m     <a href='vscode-notebook-cell:/Users/chan/Desktop/Data%20Science%204/Github%20Repository/Supervised_Learning/Linear%20Regression/Linear_Regression.ipynb#ch0000009?line=12'>13</a>\u001b[0m \u001b[39mprint\u001b[39m(reg_line)\n",
      "File \u001b[0;32m~/Desktop/Data Science 4/Github Repository/.venv/lib/python3.9/site-packages/sklearn/linear_model/_base.py:362\u001b[0m, in \u001b[0;36mLinearModel.predict\u001b[0;34m(self, X)\u001b[0m\n\u001b[1;32m    <a href='file:///Users/chan/Desktop/Data%20Science%204/Github%20Repository/.venv/lib/python3.9/site-packages/sklearn/linear_model/_base.py?line=347'>348</a>\u001b[0m \u001b[39mdef\u001b[39;00m \u001b[39mpredict\u001b[39m(\u001b[39mself\u001b[39m, X):\n\u001b[1;32m    <a href='file:///Users/chan/Desktop/Data%20Science%204/Github%20Repository/.venv/lib/python3.9/site-packages/sklearn/linear_model/_base.py?line=348'>349</a>\u001b[0m     \u001b[39m\"\"\"\u001b[39;00m\n\u001b[1;32m    <a href='file:///Users/chan/Desktop/Data%20Science%204/Github%20Repository/.venv/lib/python3.9/site-packages/sklearn/linear_model/_base.py?line=349'>350</a>\u001b[0m \u001b[39m    Predict using the linear model.\u001b[39;00m\n\u001b[1;32m    <a href='file:///Users/chan/Desktop/Data%20Science%204/Github%20Repository/.venv/lib/python3.9/site-packages/sklearn/linear_model/_base.py?line=350'>351</a>\u001b[0m \n\u001b[0;32m   (...)\u001b[0m\n\u001b[1;32m    <a href='file:///Users/chan/Desktop/Data%20Science%204/Github%20Repository/.venv/lib/python3.9/site-packages/sklearn/linear_model/_base.py?line=359'>360</a>\u001b[0m \u001b[39m        Returns predicted values.\u001b[39;00m\n\u001b[1;32m    <a href='file:///Users/chan/Desktop/Data%20Science%204/Github%20Repository/.venv/lib/python3.9/site-packages/sklearn/linear_model/_base.py?line=360'>361</a>\u001b[0m \u001b[39m    \"\"\"\u001b[39;00m\n\u001b[0;32m--> <a href='file:///Users/chan/Desktop/Data%20Science%204/Github%20Repository/.venv/lib/python3.9/site-packages/sklearn/linear_model/_base.py?line=361'>362</a>\u001b[0m     \u001b[39mreturn\u001b[39;00m \u001b[39mself\u001b[39;49m\u001b[39m.\u001b[39;49m_decision_function(X)\n",
      "File \u001b[0;32m~/Desktop/Data Science 4/Github Repository/.venv/lib/python3.9/site-packages/sklearn/linear_model/_base.py:345\u001b[0m, in \u001b[0;36mLinearModel._decision_function\u001b[0;34m(self, X)\u001b[0m\n\u001b[1;32m    <a href='file:///Users/chan/Desktop/Data%20Science%204/Github%20Repository/.venv/lib/python3.9/site-packages/sklearn/linear_model/_base.py?line=341'>342</a>\u001b[0m \u001b[39mdef\u001b[39;00m \u001b[39m_decision_function\u001b[39m(\u001b[39mself\u001b[39m, X):\n\u001b[1;32m    <a href='file:///Users/chan/Desktop/Data%20Science%204/Github%20Repository/.venv/lib/python3.9/site-packages/sklearn/linear_model/_base.py?line=342'>343</a>\u001b[0m     check_is_fitted(\u001b[39mself\u001b[39m)\n\u001b[0;32m--> <a href='file:///Users/chan/Desktop/Data%20Science%204/Github%20Repository/.venv/lib/python3.9/site-packages/sklearn/linear_model/_base.py?line=344'>345</a>\u001b[0m     X \u001b[39m=\u001b[39m \u001b[39mself\u001b[39;49m\u001b[39m.\u001b[39;49m_validate_data(X, accept_sparse\u001b[39m=\u001b[39;49m[\u001b[39m\"\u001b[39;49m\u001b[39mcsr\u001b[39;49m\u001b[39m\"\u001b[39;49m, \u001b[39m\"\u001b[39;49m\u001b[39mcsc\u001b[39;49m\u001b[39m\"\u001b[39;49m, \u001b[39m\"\u001b[39;49m\u001b[39mcoo\u001b[39;49m\u001b[39m\"\u001b[39;49m], reset\u001b[39m=\u001b[39;49m\u001b[39mFalse\u001b[39;49;00m)\n\u001b[1;32m    <a href='file:///Users/chan/Desktop/Data%20Science%204/Github%20Repository/.venv/lib/python3.9/site-packages/sklearn/linear_model/_base.py?line=345'>346</a>\u001b[0m     \u001b[39mreturn\u001b[39;00m safe_sparse_dot(X, \u001b[39mself\u001b[39m\u001b[39m.\u001b[39mcoef_\u001b[39m.\u001b[39mT, dense_output\u001b[39m=\u001b[39m\u001b[39mTrue\u001b[39;00m) \u001b[39m+\u001b[39m \u001b[39mself\u001b[39m\u001b[39m.\u001b[39mintercept_\n",
      "File \u001b[0;32m~/Desktop/Data Science 4/Github Repository/.venv/lib/python3.9/site-packages/sklearn/base.py:585\u001b[0m, in \u001b[0;36mBaseEstimator._validate_data\u001b[0;34m(self, X, y, reset, validate_separately, **check_params)\u001b[0m\n\u001b[1;32m    <a href='file:///Users/chan/Desktop/Data%20Science%204/Github%20Repository/.venv/lib/python3.9/site-packages/sklearn/base.py?line=581'>582</a>\u001b[0m     out \u001b[39m=\u001b[39m X, y\n\u001b[1;32m    <a href='file:///Users/chan/Desktop/Data%20Science%204/Github%20Repository/.venv/lib/python3.9/site-packages/sklearn/base.py?line=583'>584</a>\u001b[0m \u001b[39mif\u001b[39;00m \u001b[39mnot\u001b[39;00m no_val_X \u001b[39mand\u001b[39;00m check_params\u001b[39m.\u001b[39mget(\u001b[39m\"\u001b[39m\u001b[39mensure_2d\u001b[39m\u001b[39m\"\u001b[39m, \u001b[39mTrue\u001b[39;00m):\n\u001b[0;32m--> <a href='file:///Users/chan/Desktop/Data%20Science%204/Github%20Repository/.venv/lib/python3.9/site-packages/sklearn/base.py?line=584'>585</a>\u001b[0m     \u001b[39mself\u001b[39;49m\u001b[39m.\u001b[39;49m_check_n_features(X, reset\u001b[39m=\u001b[39;49mreset)\n\u001b[1;32m    <a href='file:///Users/chan/Desktop/Data%20Science%204/Github%20Repository/.venv/lib/python3.9/site-packages/sklearn/base.py?line=586'>587</a>\u001b[0m \u001b[39mreturn\u001b[39;00m out\n",
      "File \u001b[0;32m~/Desktop/Data Science 4/Github Repository/.venv/lib/python3.9/site-packages/sklearn/base.py:400\u001b[0m, in \u001b[0;36mBaseEstimator._check_n_features\u001b[0;34m(self, X, reset)\u001b[0m\n\u001b[1;32m    <a href='file:///Users/chan/Desktop/Data%20Science%204/Github%20Repository/.venv/lib/python3.9/site-packages/sklearn/base.py?line=396'>397</a>\u001b[0m     \u001b[39mreturn\u001b[39;00m\n\u001b[1;32m    <a href='file:///Users/chan/Desktop/Data%20Science%204/Github%20Repository/.venv/lib/python3.9/site-packages/sklearn/base.py?line=398'>399</a>\u001b[0m \u001b[39mif\u001b[39;00m n_features \u001b[39m!=\u001b[39m \u001b[39mself\u001b[39m\u001b[39m.\u001b[39mn_features_in_:\n\u001b[0;32m--> <a href='file:///Users/chan/Desktop/Data%20Science%204/Github%20Repository/.venv/lib/python3.9/site-packages/sklearn/base.py?line=399'>400</a>\u001b[0m     \u001b[39mraise\u001b[39;00m \u001b[39mValueError\u001b[39;00m(\n\u001b[1;32m    <a href='file:///Users/chan/Desktop/Data%20Science%204/Github%20Repository/.venv/lib/python3.9/site-packages/sklearn/base.py?line=400'>401</a>\u001b[0m         \u001b[39mf\u001b[39m\u001b[39m\"\u001b[39m\u001b[39mX has \u001b[39m\u001b[39m{\u001b[39;00mn_features\u001b[39m}\u001b[39;00m\u001b[39m features, but \u001b[39m\u001b[39m{\u001b[39;00m\u001b[39mself\u001b[39m\u001b[39m.\u001b[39m\u001b[39m__class__\u001b[39m\u001b[39m.\u001b[39m\u001b[39m__name__\u001b[39m\u001b[39m}\u001b[39;00m\u001b[39m \u001b[39m\u001b[39m\"\u001b[39m\n\u001b[1;32m    <a href='file:///Users/chan/Desktop/Data%20Science%204/Github%20Repository/.venv/lib/python3.9/site-packages/sklearn/base.py?line=401'>402</a>\u001b[0m         \u001b[39mf\u001b[39m\u001b[39m\"\u001b[39m\u001b[39mis expecting \u001b[39m\u001b[39m{\u001b[39;00m\u001b[39mself\u001b[39m\u001b[39m.\u001b[39mn_features_in_\u001b[39m}\u001b[39;00m\u001b[39m features as input.\u001b[39m\u001b[39m\"\u001b[39m\n\u001b[1;32m    <a href='file:///Users/chan/Desktop/Data%20Science%204/Github%20Repository/.venv/lib/python3.9/site-packages/sklearn/base.py?line=402'>403</a>\u001b[0m     )\n",
      "\u001b[0;31mValueError\u001b[0m: X has 1 features, but LinearRegression is expecting 2 features as input."
     ]
    }
   ],
   "source": [
    "# printing our coefficients\n",
    "print(\"Coefficients: \\n\", model.coef_)\n",
    "\n",
    "# The mean squared error\n",
    "print(\"Mean squared error: %.2f\" % mean_squared_error(ytest, ypred_test))\n",
    "print(\"Mean squared error: %.2f\" % mean_squared_error(ytrain, ypred_train))\n",
    "# The coefficient of determination: 1 is perfect prediction\n",
    "print(\"Coefficient of determination: %.2f\" % r2_score(ytest, ypred_test))\n",
    "print(\"Coefficient of determination: %.2f\" % r2_score(ytrain, ypred_train))\n",
    "\n",
    "reg_line = model.predict(np.reshape(np.linspace(0,300, num = 400),(400, 1)))\n",
    "#b = np.linspace(0,300, num = 400).shape\n",
    "print(reg_line)\n",
    "# Plot outputs\n",
    "#plt.plot(np.linspace(0,300, num = 400), reg_line, color=\"black\")\n",
    "plt.plot(xtest, ytest, color=\"blue\", linewidth=3)\n",
    "\n",
    "plt.xticks(())\n",
    "plt.yticks(())\n",
    "\n",
    "plt.show()\n"
   ]
  },
  {
   "cell_type": "code",
   "execution_count": null,
   "metadata": {},
   "outputs": [],
   "source": []
  }
 ],
 "metadata": {
  "interpreter": {
   "hash": "d6aeb679c4523c6ce3f3ae9945774fb4893c3edf76f3195fb3eb9fc1cb52b430"
  },
  "kernelspec": {
   "display_name": "Python 3.9.7 ('.venv': venv)",
   "language": "python",
   "name": "python3"
  },
  "language_info": {
   "codemirror_mode": {
    "name": "ipython",
    "version": 3
   },
   "file_extension": ".py",
   "mimetype": "text/x-python",
   "name": "python",
   "nbconvert_exporter": "python",
   "pygments_lexer": "ipython3",
   "version": "3.9.7"
  },
  "orig_nbformat": 4
 },
 "nbformat": 4,
 "nbformat_minor": 2
}
